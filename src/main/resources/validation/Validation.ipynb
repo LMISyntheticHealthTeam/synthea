{
 "cells": [
  {
   "cell_type": "code",
   "execution_count": 1,
   "metadata": {},
   "outputs": [],
   "source": [
    "import pandas as pd\n",
    "import os"
   ]
  },
  {
   "cell_type": "code",
   "execution_count": 2,
   "metadata": {},
   "outputs": [],
   "source": [
    "#random notes and settings\n",
    "#set exporter.fhir.export = false\n",
    "#set exporter.csv.export = true\n",
    "\n",
    "#encounters want reason code == 55680006 (drug overdose)\n",
    "#encounters want description == 'Death Certification'\n",
    "\n",
    "#run_synthea -p 10000 -s 10000 -cs 12345 -m opioid_addiction Maine Bangor\n",
    "\n",
    "#^^this command generates 10000 people (-p) with the seed 10000 (-s) and the provider seed of 12345 (-cs) using the opiod_addition module (-m) in Bangor, ME"
   ]
  },
  {
   "cell_type": "code",
   "execution_count": 3,
   "metadata": {},
   "outputs": [],
   "source": [
    "def makeEncountersDF(path, seeds):\n",
    "    '''\n",
    "    Go to the path and grab all encounters.csv and put them in one file with an extra column for seed\n",
    "    '''\n",
    "    df = pd.DataFrame()\n",
    "    for seed in seeds:\n",
    "        try:\n",
    "            encounters = pd.read_csv(os.path.join(path, 'bangor_s' + str(seed), 'encounters.csv'), dtype=str)\n",
    "            encounters['seed'] = seed\n",
    "            df = df.append(encounters)\n",
    "        except:\n",
    "            print('File for seed', str(seed), 'does not exist...skipping')\n",
    "    return df"
   ]
  },
  {
   "cell_type": "code",
   "execution_count": 4,
   "metadata": {},
   "outputs": [],
   "source": [
    "def getODEncounters(df):\n",
    "    '''\n",
    "    Return all drug overdose encounters (reason code 5568006) from a given encounters dataframe\n",
    "    This will include overdose deaths as well -- description -- 'Death Certification'\n",
    "    '''\n",
    "    data = df[df['REASONCODE'] == '55680006']\n",
    "    return data"
   ]
  },
  {
   "cell_type": "code",
   "execution_count": 5,
   "metadata": {},
   "outputs": [],
   "source": [
    "def getODDeaths(df):\n",
    "    '''\n",
    "    Return all drug overdose deaths (reason code 5568006) from a given encounters dataframe\n",
    "    DESCRIPTION == 'Death Certification' and REASONCODE == '5568006'\n",
    "    '''\n",
    "    data = df[(df['DESCRIPTION'] == 'Death Certification') & (df['REASONCODE'] == '55680006')]\n",
    "    return data"
   ]
  },
  {
   "cell_type": "code",
   "execution_count": 6,
   "metadata": {},
   "outputs": [],
   "source": [
    "def getODstats(df):\n",
    "    '''\n",
    "    get patient level sample statistics on probability of death per drug overdose ED visit\n",
    "    '''\n",
    "    #getting all overdose encouunters\n",
    "    od_enc = getODEncounters(df)\n",
    "    od_enc = od_enc.groupby(['PATIENT','seed'], as_index=False)['REASONCODE'].count().rename(columns={'REASONCODE':'OD_count'})\n",
    "    #getting all overdose deaths\n",
    "    od_death = getODDeaths(df)\n",
    "    od_death = od_death.groupby(['PATIENT','seed'], as_index=False)['REASONCODE'].count().rename(columns={'REASONCODE':'OD_death'})\n",
    "    #joining the above two dataframes\n",
    "    od = pd.merge(od_enc, od_death, how='left', on=['PATIENT', 'seed']).fillna(0)\n",
    "    #calculating patient level probability of death from overdose encounter\n",
    "    od['prDeath'] = od['OD_death']/od['OD_count']\n",
    "    #making column for weight of patient to calculate weighted average probability\n",
    "    od['weight'] = od['OD_count']/sum(od['OD_count'])\n",
    "    #weighted pr(death) -- can sum this column to get weighted sample pr(death)\n",
    "    od['weightedPrDeath'] = od['weight']*od['prDeath']\n",
    "    \n",
    "    return od"
   ]
  },
  {
   "cell_type": "code",
   "execution_count": 7,
   "metadata": {},
   "outputs": [],
   "source": [
    "path = r'C:\\repos\\Synthea\\output'\n",
    "#seeds = [10000, 13370, 23123, 33555, 39093, 45000, 51327, 65888, 74982, 82388]\n",
    "#seeds = [12345]\n",
    "seeds = [22222]\n",
    "\n",
    "#pull in data\n",
    "df = makeEncountersDF(path, seeds)"
   ]
  },
  {
   "cell_type": "code",
   "execution_count": 8,
   "metadata": {},
   "outputs": [
    {
     "name": "stdout",
     "output_type": "stream",
     "text": [
      "0.020320082728193224\n",
      "0.020590814469521542\n"
     ]
    }
   ],
   "source": [
    "#calculate overdose stats\n",
    "od_df = getODstats(df)\n",
    "\n",
    "print(od_df['prDeath'].mean())\n",
    "\n",
    "print(od_df['weightedPrDeath'].sum())"
   ]
  },
  {
   "cell_type": "code",
   "execution_count": 13,
   "metadata": {},
   "outputs": [
    {
     "data": {
      "text/plain": [
       "4560698"
      ]
     },
     "execution_count": 13,
     "metadata": {},
     "output_type": "execute_result"
    }
   ],
   "source": [
    "len(df['PATIENT'].unique())"
   ]
  },
  {
   "cell_type": "code",
   "execution_count": 9,
   "metadata": {},
   "outputs": [
    {
     "data": {
      "text/html": [
       "<div>\n",
       "<style scoped>\n",
       "    .dataframe tbody tr th:only-of-type {\n",
       "        vertical-align: middle;\n",
       "    }\n",
       "\n",
       "    .dataframe tbody tr th {\n",
       "        vertical-align: top;\n",
       "    }\n",
       "\n",
       "    .dataframe thead th {\n",
       "        text-align: right;\n",
       "    }\n",
       "</style>\n",
       "<table border=\"1\" class=\"dataframe\">\n",
       "  <thead>\n",
       "    <tr style=\"text-align: right;\">\n",
       "      <th></th>\n",
       "      <th>PATIENT</th>\n",
       "      <th>seed</th>\n",
       "      <th>OD_count</th>\n",
       "      <th>OD_death</th>\n",
       "      <th>prDeath</th>\n",
       "      <th>weight</th>\n",
       "      <th>weightedPrDeath</th>\n",
       "    </tr>\n",
       "  </thead>\n",
       "  <tbody>\n",
       "    <tr>\n",
       "      <th>0</th>\n",
       "      <td>00000c94-212f-7940-b8c1-692423cfad98</td>\n",
       "      <td>22222</td>\n",
       "      <td>4</td>\n",
       "      <td>1.0</td>\n",
       "      <td>0.250</td>\n",
       "      <td>0.000005</td>\n",
       "      <td>0.000001</td>\n",
       "    </tr>\n",
       "    <tr>\n",
       "      <th>1</th>\n",
       "      <td>00006d99-ad13-aae4-c40a-002954805bdf</td>\n",
       "      <td>22222</td>\n",
       "      <td>2</td>\n",
       "      <td>1.0</td>\n",
       "      <td>0.500</td>\n",
       "      <td>0.000002</td>\n",
       "      <td>0.000001</td>\n",
       "    </tr>\n",
       "    <tr>\n",
       "      <th>2</th>\n",
       "      <td>00007137-723e-ff4b-3ab4-01f180988500</td>\n",
       "      <td>22222</td>\n",
       "      <td>4</td>\n",
       "      <td>0.0</td>\n",
       "      <td>0.000</td>\n",
       "      <td>0.000005</td>\n",
       "      <td>0.000000</td>\n",
       "    </tr>\n",
       "    <tr>\n",
       "      <th>3</th>\n",
       "      <td>00009bfd-2bca-3101-730c-a218315c191e</td>\n",
       "      <td>22222</td>\n",
       "      <td>5</td>\n",
       "      <td>0.0</td>\n",
       "      <td>0.000</td>\n",
       "      <td>0.000006</td>\n",
       "      <td>0.000000</td>\n",
       "    </tr>\n",
       "    <tr>\n",
       "      <th>4</th>\n",
       "      <td>0000a8f2-d6a4-ab21-294f-c13ac2f45034</td>\n",
       "      <td>22222</td>\n",
       "      <td>8</td>\n",
       "      <td>1.0</td>\n",
       "      <td>0.125</td>\n",
       "      <td>0.000009</td>\n",
       "      <td>0.000001</td>\n",
       "    </tr>\n",
       "    <tr>\n",
       "      <th>...</th>\n",
       "      <td>...</td>\n",
       "      <td>...</td>\n",
       "      <td>...</td>\n",
       "      <td>...</td>\n",
       "      <td>...</td>\n",
       "      <td>...</td>\n",
       "      <td>...</td>\n",
       "    </tr>\n",
       "    <tr>\n",
       "      <th>229212</th>\n",
       "      <td>fffef610-5bd7-c85a-f0e7-051b8a7a522e</td>\n",
       "      <td>22222</td>\n",
       "      <td>5</td>\n",
       "      <td>0.0</td>\n",
       "      <td>0.000</td>\n",
       "      <td>0.000006</td>\n",
       "      <td>0.000000</td>\n",
       "    </tr>\n",
       "    <tr>\n",
       "      <th>229213</th>\n",
       "      <td>ffff0ae8-7753-176d-bf7a-f5ee0a0cda7c</td>\n",
       "      <td>22222</td>\n",
       "      <td>4</td>\n",
       "      <td>0.0</td>\n",
       "      <td>0.000</td>\n",
       "      <td>0.000005</td>\n",
       "      <td>0.000000</td>\n",
       "    </tr>\n",
       "    <tr>\n",
       "      <th>229214</th>\n",
       "      <td>ffff1883-c1c0-4a88-2ed9-d71aaf5449c0</td>\n",
       "      <td>22222</td>\n",
       "      <td>3</td>\n",
       "      <td>0.0</td>\n",
       "      <td>0.000</td>\n",
       "      <td>0.000003</td>\n",
       "      <td>0.000000</td>\n",
       "    </tr>\n",
       "    <tr>\n",
       "      <th>229215</th>\n",
       "      <td>ffff5e59-6e15-a258-444a-ea4a47d92a64</td>\n",
       "      <td>22222</td>\n",
       "      <td>4</td>\n",
       "      <td>0.0</td>\n",
       "      <td>0.000</td>\n",
       "      <td>0.000005</td>\n",
       "      <td>0.000000</td>\n",
       "    </tr>\n",
       "    <tr>\n",
       "      <th>229216</th>\n",
       "      <td>ffffe913-dc04-6c1c-4d77-435d45316ab0</td>\n",
       "      <td>22222</td>\n",
       "      <td>3</td>\n",
       "      <td>0.0</td>\n",
       "      <td>0.000</td>\n",
       "      <td>0.000003</td>\n",
       "      <td>0.000000</td>\n",
       "    </tr>\n",
       "  </tbody>\n",
       "</table>\n",
       "<p>229217 rows × 7 columns</p>\n",
       "</div>"
      ],
      "text/plain": [
       "                                     PATIENT   seed  OD_count  OD_death  \\\n",
       "0       00000c94-212f-7940-b8c1-692423cfad98  22222         4       1.0   \n",
       "1       00006d99-ad13-aae4-c40a-002954805bdf  22222         2       1.0   \n",
       "2       00007137-723e-ff4b-3ab4-01f180988500  22222         4       0.0   \n",
       "3       00009bfd-2bca-3101-730c-a218315c191e  22222         5       0.0   \n",
       "4       0000a8f2-d6a4-ab21-294f-c13ac2f45034  22222         8       1.0   \n",
       "...                                      ...    ...       ...       ...   \n",
       "229212  fffef610-5bd7-c85a-f0e7-051b8a7a522e  22222         5       0.0   \n",
       "229213  ffff0ae8-7753-176d-bf7a-f5ee0a0cda7c  22222         4       0.0   \n",
       "229214  ffff1883-c1c0-4a88-2ed9-d71aaf5449c0  22222         3       0.0   \n",
       "229215  ffff5e59-6e15-a258-444a-ea4a47d92a64  22222         4       0.0   \n",
       "229216  ffffe913-dc04-6c1c-4d77-435d45316ab0  22222         3       0.0   \n",
       "\n",
       "        prDeath    weight  weightedPrDeath  \n",
       "0         0.250  0.000005         0.000001  \n",
       "1         0.500  0.000002         0.000001  \n",
       "2         0.000  0.000005         0.000000  \n",
       "3         0.000  0.000006         0.000000  \n",
       "4         0.125  0.000009         0.000001  \n",
       "...         ...       ...              ...  \n",
       "229212    0.000  0.000006         0.000000  \n",
       "229213    0.000  0.000005         0.000000  \n",
       "229214    0.000  0.000003         0.000000  \n",
       "229215    0.000  0.000005         0.000000  \n",
       "229216    0.000  0.000003         0.000000  \n",
       "\n",
       "[229217 rows x 7 columns]"
      ]
     },
     "execution_count": 9,
     "metadata": {},
     "output_type": "execute_result"
    }
   ],
   "source": [
    "od_df"
   ]
  },
  {
   "cell_type": "code",
   "execution_count": null,
   "metadata": {},
   "outputs": [],
   "source": []
  },
  {
   "cell_type": "code",
   "execution_count": 4,
   "metadata": {},
   "outputs": [],
   "source": [
    "def makeMedicationsDF(path, seeds):\n",
    "    '''\n",
    "    Go to the path and grab all encounters.csv and put them in one file with an extra column for seed\n",
    "    '''\n",
    "    df = pd.DataFrame()\n",
    "    for seed in seeds:\n",
    "        try:\n",
    "            medications = pd.read_csv(os.path.join(path, 'bangor_s' + str(seed), 'medications.csv'), dtype=str)\n",
    "            medications['seed'] = seed\n",
    "            df = df.append(medications)\n",
    "        except:\n",
    "            print('File for seed', str(seed), 'does not exist...skipping')\n",
    "    return df"
   ]
  },
  {
   "cell_type": "code",
   "execution_count": 5,
   "metadata": {},
   "outputs": [],
   "source": [
    "path = r'\\\\lmi.org\\Data\\Ser_Del\\HlthMgmt\\Civ\\RstricOpen\\SyntheaChallenge\\data'\n",
    "seeds = [10000, 13370, 23123, 33555, 39093, 45000, 51327, 65888, 74982, 82388]\n",
    "\n",
    "#pull in data\n",
    "df = makeMedicationsDF(path, seeds)\n",
    "\n"
   ]
  },
  {
   "cell_type": "code",
   "execution_count": 6,
   "metadata": {},
   "outputs": [
    {
     "data": {
      "text/plain": "                     START                  STOP  \\\n0     2013-01-31T17:08:25Z  2013-01-31T17:23:25Z   \n1     2013-01-31T17:08:25Z  2013-01-31T17:23:25Z   \n2     2013-01-31T17:08:25Z  2013-01-31T17:23:25Z   \n3     2016-07-25T12:47:23Z                   NaN   \n4     2016-07-25T12:47:23Z                   NaN   \n...                    ...                   ...   \n6741  1999-08-03T22:48:51Z                   NaN   \n6742  1999-08-03T22:48:51Z                   NaN   \n6743  2004-03-24T18:13:30Z                   NaN   \n6744  2004-03-24T18:13:30Z                   NaN   \n6745  2004-03-24T18:13:30Z                   NaN   \n\n                                   PATIENT  \\\n0     cc98085d-fb73-1c5a-b82a-6fd874d16956   \n1     cc98085d-fb73-1c5a-b82a-6fd874d16956   \n2     cc98085d-fb73-1c5a-b82a-6fd874d16956   \n3     5e090cdb-677c-1b38-bb24-2a360f6a489a   \n4     5e090cdb-677c-1b38-bb24-2a360f6a489a   \n...                                    ...   \n6741  2de3335a-1c17-56fc-ea59-655de45a2508   \n6742  2de3335a-1c17-56fc-ea59-655de45a2508   \n6743  15bde7a3-17ea-a127-1c7c-00fc87c27d0b   \n6744  15bde7a3-17ea-a127-1c7c-00fc87c27d0b   \n6745  15bde7a3-17ea-a127-1c7c-00fc87c27d0b   \n\n                                     PAYER  \\\n0     d47b3510-2895-3b70-9897-342d681c769d   \n1     d47b3510-2895-3b70-9897-342d681c769d   \n2     d47b3510-2895-3b70-9897-342d681c769d   \n3     42c4fca7-f8a9-3cd1-982a-dd9751bf3e2a   \n4     42c4fca7-f8a9-3cd1-982a-dd9751bf3e2a   \n...                                    ...   \n6741  7caa7254-5050-3b5e-9eae-bd5ea30e809c   \n6742  7caa7254-5050-3b5e-9eae-bd5ea30e809c   \n6743  b1c428d6-4f07-31e0-90f0-68ffa6ff8c76   \n6744  b1c428d6-4f07-31e0-90f0-68ffa6ff8c76   \n6745  b1c428d6-4f07-31e0-90f0-68ffa6ff8c76   \n\n                                 ENCOUNTER     CODE  \\\n0     70731a88-ec28-e3ff-4a3c-51ceef1ea6e6  1660014   \n1     70731a88-ec28-e3ff-4a3c-51ceef1ea6e6   834357   \n2     70731a88-ec28-e3ff-4a3c-51ceef1ea6e6  1190795   \n3     d895e693-8d64-659a-f1c1-673c559e76a0   309362   \n4     d895e693-8d64-659a-f1c1-673c559e76a0   312961   \n...                                    ...      ...   \n6741  13825764-e4b8-2c78-63c6-520e09cfe9b1   897718   \n6742  13825764-e4b8-2c78-63c6-520e09cfe9b1   197604   \n6743  8ebc9b95-cb1d-b408-882e-a5d28adb43f7   855332   \n6744  8ebc9b95-cb1d-b408-882e-a5d28adb43f7   897718   \n6745  8ebc9b95-cb1d-b408-882e-a5d28adb43f7   197604   \n\n                                            DESCRIPTION BASE_COST  \\\n0                    1 ML Epinephrine 1 MG/ML Injection      2.53   \n1     3 ML Amiodarone hydrocholoride 50 MG/ML Prefil...     27.01   \n2          Atropine Sulfate 1 MG/ML Injectable Solution     11.17   \n3                         Clopidogrel 75 MG Oral Tablet      9.00   \n4                         Simvastatin 20 MG Oral Tablet      8.70   \n...                                                 ...       ...   \n6741                      Verapamil Hydrochloride 40 MG     41.29   \n6742                       Digoxin 0.125 MG Oral Tablet     38.50   \n6743                   Warfarin Sodium 5 MG Oral Tablet     41.12   \n6744                      Verapamil Hydrochloride 40 MG     52.71   \n6745                       Digoxin 0.125 MG Oral Tablet     40.27   \n\n     PAYER_COVERAGE DISPENSES TOTALCOST REASONCODE REASONDESCRIPTION   seed  \n0              0.00         1      2.53        NaN               NaN  10000  \n1              0.00         1     27.01        NaN               NaN  10000  \n2              0.00         1     11.17        NaN               NaN  10000  \n3              0.00        58    522.00        NaN               NaN  10000  \n4              0.00        58    504.60        NaN               NaN  10000  \n...             ...       ...       ...        ...               ...    ...  \n6741           0.00       264  10900.56        NaN               NaN  82388  \n6742           0.00       264  10164.00        NaN               NaN  82388  \n6743           0.00       208   8552.96        NaN               NaN  82388  \n6744           0.00       208  10963.68        NaN               NaN  82388  \n6745           0.00       208   8376.16        NaN               NaN  82388  \n\n[67789 rows x 14 columns]",
      "text/html": "<div>\n<style scoped>\n    .dataframe tbody tr th:only-of-type {\n        vertical-align: middle;\n    }\n\n    .dataframe tbody tr th {\n        vertical-align: top;\n    }\n\n    .dataframe thead th {\n        text-align: right;\n    }\n</style>\n<table border=\"1\" class=\"dataframe\">\n  <thead>\n    <tr style=\"text-align: right;\">\n      <th></th>\n      <th>START</th>\n      <th>STOP</th>\n      <th>PATIENT</th>\n      <th>PAYER</th>\n      <th>ENCOUNTER</th>\n      <th>CODE</th>\n      <th>DESCRIPTION</th>\n      <th>BASE_COST</th>\n      <th>PAYER_COVERAGE</th>\n      <th>DISPENSES</th>\n      <th>TOTALCOST</th>\n      <th>REASONCODE</th>\n      <th>REASONDESCRIPTION</th>\n      <th>seed</th>\n    </tr>\n  </thead>\n  <tbody>\n    <tr>\n      <th>0</th>\n      <td>2013-01-31T17:08:25Z</td>\n      <td>2013-01-31T17:23:25Z</td>\n      <td>cc98085d-fb73-1c5a-b82a-6fd874d16956</td>\n      <td>d47b3510-2895-3b70-9897-342d681c769d</td>\n      <td>70731a88-ec28-e3ff-4a3c-51ceef1ea6e6</td>\n      <td>1660014</td>\n      <td>1 ML Epinephrine 1 MG/ML Injection</td>\n      <td>2.53</td>\n      <td>0.00</td>\n      <td>1</td>\n      <td>2.53</td>\n      <td>NaN</td>\n      <td>NaN</td>\n      <td>10000</td>\n    </tr>\n    <tr>\n      <th>1</th>\n      <td>2013-01-31T17:08:25Z</td>\n      <td>2013-01-31T17:23:25Z</td>\n      <td>cc98085d-fb73-1c5a-b82a-6fd874d16956</td>\n      <td>d47b3510-2895-3b70-9897-342d681c769d</td>\n      <td>70731a88-ec28-e3ff-4a3c-51ceef1ea6e6</td>\n      <td>834357</td>\n      <td>3 ML Amiodarone hydrocholoride 50 MG/ML Prefil...</td>\n      <td>27.01</td>\n      <td>0.00</td>\n      <td>1</td>\n      <td>27.01</td>\n      <td>NaN</td>\n      <td>NaN</td>\n      <td>10000</td>\n    </tr>\n    <tr>\n      <th>2</th>\n      <td>2013-01-31T17:08:25Z</td>\n      <td>2013-01-31T17:23:25Z</td>\n      <td>cc98085d-fb73-1c5a-b82a-6fd874d16956</td>\n      <td>d47b3510-2895-3b70-9897-342d681c769d</td>\n      <td>70731a88-ec28-e3ff-4a3c-51ceef1ea6e6</td>\n      <td>1190795</td>\n      <td>Atropine Sulfate 1 MG/ML Injectable Solution</td>\n      <td>11.17</td>\n      <td>0.00</td>\n      <td>1</td>\n      <td>11.17</td>\n      <td>NaN</td>\n      <td>NaN</td>\n      <td>10000</td>\n    </tr>\n    <tr>\n      <th>3</th>\n      <td>2016-07-25T12:47:23Z</td>\n      <td>NaN</td>\n      <td>5e090cdb-677c-1b38-bb24-2a360f6a489a</td>\n      <td>42c4fca7-f8a9-3cd1-982a-dd9751bf3e2a</td>\n      <td>d895e693-8d64-659a-f1c1-673c559e76a0</td>\n      <td>309362</td>\n      <td>Clopidogrel 75 MG Oral Tablet</td>\n      <td>9.00</td>\n      <td>0.00</td>\n      <td>58</td>\n      <td>522.00</td>\n      <td>NaN</td>\n      <td>NaN</td>\n      <td>10000</td>\n    </tr>\n    <tr>\n      <th>4</th>\n      <td>2016-07-25T12:47:23Z</td>\n      <td>NaN</td>\n      <td>5e090cdb-677c-1b38-bb24-2a360f6a489a</td>\n      <td>42c4fca7-f8a9-3cd1-982a-dd9751bf3e2a</td>\n      <td>d895e693-8d64-659a-f1c1-673c559e76a0</td>\n      <td>312961</td>\n      <td>Simvastatin 20 MG Oral Tablet</td>\n      <td>8.70</td>\n      <td>0.00</td>\n      <td>58</td>\n      <td>504.60</td>\n      <td>NaN</td>\n      <td>NaN</td>\n      <td>10000</td>\n    </tr>\n    <tr>\n      <th>...</th>\n      <td>...</td>\n      <td>...</td>\n      <td>...</td>\n      <td>...</td>\n      <td>...</td>\n      <td>...</td>\n      <td>...</td>\n      <td>...</td>\n      <td>...</td>\n      <td>...</td>\n      <td>...</td>\n      <td>...</td>\n      <td>...</td>\n      <td>...</td>\n    </tr>\n    <tr>\n      <th>6741</th>\n      <td>1999-08-03T22:48:51Z</td>\n      <td>NaN</td>\n      <td>2de3335a-1c17-56fc-ea59-655de45a2508</td>\n      <td>7caa7254-5050-3b5e-9eae-bd5ea30e809c</td>\n      <td>13825764-e4b8-2c78-63c6-520e09cfe9b1</td>\n      <td>897718</td>\n      <td>Verapamil Hydrochloride 40 MG</td>\n      <td>41.29</td>\n      <td>0.00</td>\n      <td>264</td>\n      <td>10900.56</td>\n      <td>NaN</td>\n      <td>NaN</td>\n      <td>82388</td>\n    </tr>\n    <tr>\n      <th>6742</th>\n      <td>1999-08-03T22:48:51Z</td>\n      <td>NaN</td>\n      <td>2de3335a-1c17-56fc-ea59-655de45a2508</td>\n      <td>7caa7254-5050-3b5e-9eae-bd5ea30e809c</td>\n      <td>13825764-e4b8-2c78-63c6-520e09cfe9b1</td>\n      <td>197604</td>\n      <td>Digoxin 0.125 MG Oral Tablet</td>\n      <td>38.50</td>\n      <td>0.00</td>\n      <td>264</td>\n      <td>10164.00</td>\n      <td>NaN</td>\n      <td>NaN</td>\n      <td>82388</td>\n    </tr>\n    <tr>\n      <th>6743</th>\n      <td>2004-03-24T18:13:30Z</td>\n      <td>NaN</td>\n      <td>15bde7a3-17ea-a127-1c7c-00fc87c27d0b</td>\n      <td>b1c428d6-4f07-31e0-90f0-68ffa6ff8c76</td>\n      <td>8ebc9b95-cb1d-b408-882e-a5d28adb43f7</td>\n      <td>855332</td>\n      <td>Warfarin Sodium 5 MG Oral Tablet</td>\n      <td>41.12</td>\n      <td>0.00</td>\n      <td>208</td>\n      <td>8552.96</td>\n      <td>NaN</td>\n      <td>NaN</td>\n      <td>82388</td>\n    </tr>\n    <tr>\n      <th>6744</th>\n      <td>2004-03-24T18:13:30Z</td>\n      <td>NaN</td>\n      <td>15bde7a3-17ea-a127-1c7c-00fc87c27d0b</td>\n      <td>b1c428d6-4f07-31e0-90f0-68ffa6ff8c76</td>\n      <td>8ebc9b95-cb1d-b408-882e-a5d28adb43f7</td>\n      <td>897718</td>\n      <td>Verapamil Hydrochloride 40 MG</td>\n      <td>52.71</td>\n      <td>0.00</td>\n      <td>208</td>\n      <td>10963.68</td>\n      <td>NaN</td>\n      <td>NaN</td>\n      <td>82388</td>\n    </tr>\n    <tr>\n      <th>6745</th>\n      <td>2004-03-24T18:13:30Z</td>\n      <td>NaN</td>\n      <td>15bde7a3-17ea-a127-1c7c-00fc87c27d0b</td>\n      <td>b1c428d6-4f07-31e0-90f0-68ffa6ff8c76</td>\n      <td>8ebc9b95-cb1d-b408-882e-a5d28adb43f7</td>\n      <td>197604</td>\n      <td>Digoxin 0.125 MG Oral Tablet</td>\n      <td>40.27</td>\n      <td>0.00</td>\n      <td>208</td>\n      <td>8376.16</td>\n      <td>NaN</td>\n      <td>NaN</td>\n      <td>82388</td>\n    </tr>\n  </tbody>\n</table>\n<p>67789 rows × 14 columns</p>\n</div>"
     },
     "execution_count": 6,
     "metadata": {},
     "output_type": "execute_result"
    }
   ],
   "source": [
    "df"
   ]
  },
  {
   "cell_type": "code",
   "execution_count": 7,
   "outputs": [
    {
     "name": "stdout",
     "output_type": "stream",
     "text": [
      "<class 'pandas.core.frame.DataFrame'>\n",
      "Int64Index: 67789 entries, 0 to 6745\n",
      "Data columns (total 14 columns):\n",
      " #   Column             Non-Null Count  Dtype \n",
      "---  ------             --------------  ----- \n",
      " 0   START              67789 non-null  object\n",
      " 1   STOP               43827 non-null  object\n",
      " 2   PATIENT            67789 non-null  object\n",
      " 3   PAYER              67789 non-null  object\n",
      " 4   ENCOUNTER          67789 non-null  object\n",
      " 5   CODE               67789 non-null  object\n",
      " 6   DESCRIPTION        67789 non-null  object\n",
      " 7   BASE_COST          67789 non-null  object\n",
      " 8   PAYER_COVERAGE     67789 non-null  object\n",
      " 9   DISPENSES          67789 non-null  object\n",
      " 10  TOTALCOST          67789 non-null  object\n",
      " 11  REASONCODE         0 non-null      object\n",
      " 12  REASONDESCRIPTION  0 non-null      object\n",
      " 13  seed               67789 non-null  int64 \n",
      "dtypes: int64(1), object(13)\n",
      "memory usage: 7.8+ MB\n"
     ]
    }
   ],
   "source": [
    "df.info()\n"
   ],
   "metadata": {
    "collapsed": false,
    "pycharm": {
     "name": "#%%\n"
    }
   }
  },
  {
   "cell_type": "code",
   "execution_count": 10,
   "outputs": [],
   "source": [
    "df['YEAR'] = df['START'].str.slice(stop=4)"
   ],
   "metadata": {
    "collapsed": false,
    "pycharm": {
     "name": "#%%\n"
    }
   }
  },
  {
   "cell_type": "code",
   "execution_count": 16,
   "outputs": [],
   "source": [
    "df_grouped = df.groupby(['PATIENT', 'YEAR', 'CODE', 'DESCRIPTION'])['ENCOUNTER'].count() \\\n",
    "    .reset_index(name='Number of Prescriptions')"
   ],
   "metadata": {
    "collapsed": false,
    "pycharm": {
     "name": "#%%\n"
    }
   }
  },
  {
   "cell_type": "code",
   "execution_count": 18,
   "outputs": [
    {
     "data": {
      "text/plain": "                                PATIENT  YEAR    CODE  \\\n0  000341fd-e879-21b3-aa5b-13cda0050ba9  1976  705129   \n1  000341fd-e879-21b3-aa5b-13cda0050ba9  1991  312961   \n2  000341fd-e879-21b3-aa5b-13cda0050ba9  1994  197361   \n3  000341fd-e879-21b3-aa5b-13cda0050ba9  1997  309362   \n4  000341fd-e879-21b3-aa5b-13cda0050ba9  2002  259255   \n\n                                 DESCRIPTION  Number of Prescriptions  \n0  Nitroglycerin 0.4 MG/ACTUAT Mucosal Spray                        1  \n1              Simvastatin 20 MG Oral Tablet                        1  \n2                Amlodipine 5 MG Oral Tablet                        1  \n3              Clopidogrel 75 MG Oral Tablet                        1  \n4             Atorvastatin 80 MG Oral Tablet                        1  ",
      "text/html": "<div>\n<style scoped>\n    .dataframe tbody tr th:only-of-type {\n        vertical-align: middle;\n    }\n\n    .dataframe tbody tr th {\n        vertical-align: top;\n    }\n\n    .dataframe thead th {\n        text-align: right;\n    }\n</style>\n<table border=\"1\" class=\"dataframe\">\n  <thead>\n    <tr style=\"text-align: right;\">\n      <th></th>\n      <th>PATIENT</th>\n      <th>YEAR</th>\n      <th>CODE</th>\n      <th>DESCRIPTION</th>\n      <th>Number of Prescriptions</th>\n    </tr>\n  </thead>\n  <tbody>\n    <tr>\n      <th>0</th>\n      <td>000341fd-e879-21b3-aa5b-13cda0050ba9</td>\n      <td>1976</td>\n      <td>705129</td>\n      <td>Nitroglycerin 0.4 MG/ACTUAT Mucosal Spray</td>\n      <td>1</td>\n    </tr>\n    <tr>\n      <th>1</th>\n      <td>000341fd-e879-21b3-aa5b-13cda0050ba9</td>\n      <td>1991</td>\n      <td>312961</td>\n      <td>Simvastatin 20 MG Oral Tablet</td>\n      <td>1</td>\n    </tr>\n    <tr>\n      <th>2</th>\n      <td>000341fd-e879-21b3-aa5b-13cda0050ba9</td>\n      <td>1994</td>\n      <td>197361</td>\n      <td>Amlodipine 5 MG Oral Tablet</td>\n      <td>1</td>\n    </tr>\n    <tr>\n      <th>3</th>\n      <td>000341fd-e879-21b3-aa5b-13cda0050ba9</td>\n      <td>1997</td>\n      <td>309362</td>\n      <td>Clopidogrel 75 MG Oral Tablet</td>\n      <td>1</td>\n    </tr>\n    <tr>\n      <th>4</th>\n      <td>000341fd-e879-21b3-aa5b-13cda0050ba9</td>\n      <td>2002</td>\n      <td>259255</td>\n      <td>Atorvastatin 80 MG Oral Tablet</td>\n      <td>1</td>\n    </tr>\n  </tbody>\n</table>\n</div>"
     },
     "execution_count": 18,
     "metadata": {},
     "output_type": "execute_result"
    }
   ],
   "source": [
    "df_grouped.head()"
   ],
   "metadata": {
    "collapsed": false,
    "pycharm": {
     "name": "#%%\n"
    }
   }
  },
  {
   "cell_type": "code",
   "execution_count": 19,
   "outputs": [],
   "source": [
    "df_grouped.to_csv(\"prescription_info.csv\", index=False)"
   ],
   "metadata": {
    "collapsed": false,
    "pycharm": {
     "name": "#%%\n"
    }
   }
  },
  {
   "cell_type": "code",
   "execution_count": null,
   "outputs": [],
   "source": [],
   "metadata": {
    "collapsed": false,
    "pycharm": {
     "name": "#%%\n"
    }
   }
  }
 ],
 "metadata": {
  "kernelspec": {
   "display_name": "Python 3",
   "language": "python",
   "name": "python3"
  },
  "language_info": {
   "codemirror_mode": {
    "name": "ipython",
    "version": 3
   },
   "file_extension": ".py",
   "mimetype": "text/x-python",
   "name": "python",
   "nbconvert_exporter": "python",
   "pygments_lexer": "ipython3",
   "version": "3.8.5"
  }
 },
 "nbformat": 4,
 "nbformat_minor": 2
}