{
 "cells": [
  {
   "cell_type": "code",
   "execution_count": 1,
   "metadata": {},
   "outputs": [],
   "source": [
    "import pandas as pd\n",
    "import os"
   ]
  },
  {
   "cell_type": "code",
   "execution_count": 2,
   "metadata": {},
   "outputs": [],
   "source": [
    "#random notes and settings\n",
    "#set exporter.fhir.export = false\n",
    "#set exporter.csv.export = true\n",
    "\n",
    "#encounters want reason code == 55680006 (drug overdose)\n",
    "#encounters want description == 'Death Certification'\n",
    "\n",
    "#run_synthea -p 10000 -s 10000 -cs 12345 -m opioid_addiction Maine Bangor\n",
    "\n",
    "#^^this command generates 10000 people (-p) with the seed 10000 (-s) and the provider seed of 12345 (-cs) using the opiod_addition module (-m) in Bangor, ME"
   ]
  },
  {
   "cell_type": "code",
   "execution_count": 3,
   "metadata": {},
   "outputs": [],
   "source": [
    "def makeEncountersDF(path, seeds):\n",
    "    '''\n",
    "    Go to the path and grab all encounters.csv and put them in one file with an extra column for seed\n",
    "    '''\n",
    "    df = pd.DataFrame()\n",
    "    for seed in seeds:\n",
    "        try:\n",
    "            encounters = pd.read_csv(os.path.join(path, 'bangor_s' + str(seed), 'encounters.csv'), dtype=str)\n",
    "            encounters['seed'] = seed\n",
    "            df = df.append(encounters)\n",
    "        except:\n",
    "            print('File for seed', str(seed), 'does not exist...skipping')\n",
    "    return df"
   ]
  },
  {
   "cell_type": "code",
   "execution_count": 4,
   "metadata": {},
   "outputs": [],
   "source": [
    "def getODEncounters(df):\n",
    "    '''\n",
    "    Return all drug overdose encounters (reason code 5568006) from a given encounters dataframe\n",
    "    This will include overdose deaths as well -- description -- 'Death Certification'\n",
    "    '''\n",
    "    data = df[df['REASONCODE'] == '55680006']\n",
    "    return data"
   ]
  },
  {
   "cell_type": "code",
   "execution_count": 5,
   "metadata": {},
   "outputs": [],
   "source": [
    "def getODDeaths(df):\n",
    "    '''\n",
    "    Return all drug overdose deaths (reason code 5568006) from a given encounters dataframe\n",
    "    DESCRIPTION == 'Death Certification' and REASONCODE == '5568006'\n",
    "    '''\n",
    "    data = df[(df['DESCRIPTION'] == 'Death Certification') & (df['REASONCODE'] == '55680006')]\n",
    "    return data"
   ]
  },
  {
   "cell_type": "code",
   "execution_count": 6,
   "metadata": {},
   "outputs": [],
   "source": [
    "def getODstats(df):\n",
    "    '''\n",
    "    get patient level sample statistics on probability of death per drug overdose ED visit\n",
    "    '''\n",
    "    #getting all overdose encouunters\n",
    "    od_enc = getODEncounters(df)\n",
    "    od_enc = od_enc.groupby(['PATIENT','seed'], as_index=False)['REASONCODE'].count().rename(columns={'REASONCODE':'OD_count'})\n",
    "    #getting all overdose deaths\n",
    "    od_death = getODDeaths(df)\n",
    "    od_death = od_death.groupby(['PATIENT','seed'], as_index=False)['REASONCODE'].count().rename(columns={'REASONCODE':'OD_death'})\n",
    "    #joining the above two dataframes\n",
    "    od = pd.merge(od_enc, od_death, how='left', on=['PATIENT', 'seed']).fillna(0)\n",
    "    #calculating patient level probability of death from overdose encounter\n",
    "    od['prDeath'] = od['OD_death']/od['OD_count']\n",
    "    #making column for weight of patient to calculate weighted average probability\n",
    "    od['weight'] = od['OD_count']/sum(od['OD_count'])\n",
    "    #weighted pr(death) -- can sum this column to get weighted sample pr(death)\n",
    "    od['weightedPrDeath'] = od['weight']*od['prDeath']\n",
    "    \n",
    "    return od"
   ]
  },
  {
   "cell_type": "code",
   "execution_count": 7,
   "metadata": {},
   "outputs": [],
   "source": [
    "path = r'C:\\repos\\Synthea\\output'\n",
    "seeds = [10000, 13370, 23123, 33555, 39093, 45000, 51327, 65888, 74982, 82388]\n",
    "\n",
    "#pull in data\n",
    "df = makeEncountersDF(path, seeds)"
   ]
  },
  {
   "cell_type": "code",
   "execution_count": 12,
   "metadata": {},
   "outputs": [
    {
     "name": "stdout",
     "output_type": "stream",
     "text": [
      "0.02204020446763761\n",
      "0.022825977174022828\n"
     ]
    }
   ],
   "source": [
    "#calculate overdose stats\n",
    "od_df = getODstats(df)\n",
    "\n",
    "print(od_df['prDeath'].mean())\n",
    "\n",
    "print(od_df['weightedPrDeath'].sum())"
   ]
  },
  {
   "cell_type": "code",
   "execution_count": 14,
   "metadata": {},
   "outputs": [
    {
     "data": {
      "text/html": [
       "<div>\n",
       "<style scoped>\n",
       "    .dataframe tbody tr th:only-of-type {\n",
       "        vertical-align: middle;\n",
       "    }\n",
       "\n",
       "    .dataframe tbody tr th {\n",
       "        vertical-align: top;\n",
       "    }\n",
       "\n",
       "    .dataframe thead th {\n",
       "        text-align: right;\n",
       "    }\n",
       "</style>\n",
       "<table border=\"1\" class=\"dataframe\">\n",
       "  <thead>\n",
       "    <tr style=\"text-align: right;\">\n",
       "      <th></th>\n",
       "      <th>PATIENT</th>\n",
       "      <th>seed</th>\n",
       "      <th>OD_count</th>\n",
       "      <th>OD_death</th>\n",
       "      <th>prDeath</th>\n",
       "      <th>weight</th>\n",
       "      <th>weightedPrDeath</th>\n",
       "    </tr>\n",
       "  </thead>\n",
       "  <tbody>\n",
       "    <tr>\n",
       "      <th>0</th>\n",
       "      <td>0010705a-860d-9f3e-b048-805d265066c9</td>\n",
       "      <td>45000</td>\n",
       "      <td>4</td>\n",
       "      <td>0.0</td>\n",
       "      <td>0.0</td>\n",
       "      <td>0.000202</td>\n",
       "      <td>0.00000</td>\n",
       "    </tr>\n",
       "    <tr>\n",
       "      <th>1</th>\n",
       "      <td>001510a4-99b1-89f2-2a8e-4784b653ec84</td>\n",
       "      <td>45000</td>\n",
       "      <td>2</td>\n",
       "      <td>0.0</td>\n",
       "      <td>0.0</td>\n",
       "      <td>0.000101</td>\n",
       "      <td>0.00000</td>\n",
       "    </tr>\n",
       "    <tr>\n",
       "      <th>2</th>\n",
       "      <td>00178119-0081-9c85-875e-cadf915d257e</td>\n",
       "      <td>10000</td>\n",
       "      <td>1</td>\n",
       "      <td>0.0</td>\n",
       "      <td>0.0</td>\n",
       "      <td>0.000050</td>\n",
       "      <td>0.00000</td>\n",
       "    </tr>\n",
       "    <tr>\n",
       "      <th>3</th>\n",
       "      <td>001c57fb-5353-fca7-a5bd-09338a7940a0</td>\n",
       "      <td>13370</td>\n",
       "      <td>3</td>\n",
       "      <td>0.0</td>\n",
       "      <td>0.0</td>\n",
       "      <td>0.000151</td>\n",
       "      <td>0.00000</td>\n",
       "    </tr>\n",
       "    <tr>\n",
       "      <th>4</th>\n",
       "      <td>0030aba4-03d4-dbbe-efa4-674f74e42a22</td>\n",
       "      <td>74982</td>\n",
       "      <td>2</td>\n",
       "      <td>1.0</td>\n",
       "      <td>0.5</td>\n",
       "      <td>0.000101</td>\n",
       "      <td>0.00005</td>\n",
       "    </tr>\n",
       "    <tr>\n",
       "      <th>...</th>\n",
       "      <td>...</td>\n",
       "      <td>...</td>\n",
       "      <td>...</td>\n",
       "      <td>...</td>\n",
       "      <td>...</td>\n",
       "      <td>...</td>\n",
       "      <td>...</td>\n",
       "    </tr>\n",
       "    <tr>\n",
       "      <th>5266</th>\n",
       "      <td>ff887290-dd71-7bf8-1ec3-163ace581c61</td>\n",
       "      <td>23123</td>\n",
       "      <td>5</td>\n",
       "      <td>0.0</td>\n",
       "      <td>0.0</td>\n",
       "      <td>0.000252</td>\n",
       "      <td>0.00000</td>\n",
       "    </tr>\n",
       "    <tr>\n",
       "      <th>5267</th>\n",
       "      <td>ffd1383b-049d-8d60-77a7-eb9e6cedd796</td>\n",
       "      <td>74982</td>\n",
       "      <td>3</td>\n",
       "      <td>0.0</td>\n",
       "      <td>0.0</td>\n",
       "      <td>0.000151</td>\n",
       "      <td>0.00000</td>\n",
       "    </tr>\n",
       "    <tr>\n",
       "      <th>5268</th>\n",
       "      <td>ffd95e98-e213-1250-cb5b-50fd7b682891</td>\n",
       "      <td>74982</td>\n",
       "      <td>2</td>\n",
       "      <td>0.0</td>\n",
       "      <td>0.0</td>\n",
       "      <td>0.000101</td>\n",
       "      <td>0.00000</td>\n",
       "    </tr>\n",
       "    <tr>\n",
       "      <th>5269</th>\n",
       "      <td>ffe7475c-3345-6b58-7e73-a4283460329d</td>\n",
       "      <td>13370</td>\n",
       "      <td>6</td>\n",
       "      <td>0.0</td>\n",
       "      <td>0.0</td>\n",
       "      <td>0.000303</td>\n",
       "      <td>0.00000</td>\n",
       "    </tr>\n",
       "    <tr>\n",
       "      <th>5270</th>\n",
       "      <td>ffebb920-5bc1-7540-acf5-b96cd91e423e</td>\n",
       "      <td>10000</td>\n",
       "      <td>3</td>\n",
       "      <td>0.0</td>\n",
       "      <td>0.0</td>\n",
       "      <td>0.000151</td>\n",
       "      <td>0.00000</td>\n",
       "    </tr>\n",
       "  </tbody>\n",
       "</table>\n",
       "<p>5271 rows × 7 columns</p>\n",
       "</div>"
      ],
      "text/plain": [
       "                                   PATIENT   seed  OD_count  OD_death  \\\n",
       "0     0010705a-860d-9f3e-b048-805d265066c9  45000         4       0.0   \n",
       "1     001510a4-99b1-89f2-2a8e-4784b653ec84  45000         2       0.0   \n",
       "2     00178119-0081-9c85-875e-cadf915d257e  10000         1       0.0   \n",
       "3     001c57fb-5353-fca7-a5bd-09338a7940a0  13370         3       0.0   \n",
       "4     0030aba4-03d4-dbbe-efa4-674f74e42a22  74982         2       1.0   \n",
       "...                                    ...    ...       ...       ...   \n",
       "5266  ff887290-dd71-7bf8-1ec3-163ace581c61  23123         5       0.0   \n",
       "5267  ffd1383b-049d-8d60-77a7-eb9e6cedd796  74982         3       0.0   \n",
       "5268  ffd95e98-e213-1250-cb5b-50fd7b682891  74982         2       0.0   \n",
       "5269  ffe7475c-3345-6b58-7e73-a4283460329d  13370         6       0.0   \n",
       "5270  ffebb920-5bc1-7540-acf5-b96cd91e423e  10000         3       0.0   \n",
       "\n",
       "      prDeath    weight  weightedPrDeath  \n",
       "0         0.0  0.000202          0.00000  \n",
       "1         0.0  0.000101          0.00000  \n",
       "2         0.0  0.000050          0.00000  \n",
       "3         0.0  0.000151          0.00000  \n",
       "4         0.5  0.000101          0.00005  \n",
       "...       ...       ...              ...  \n",
       "5266      0.0  0.000252          0.00000  \n",
       "5267      0.0  0.000151          0.00000  \n",
       "5268      0.0  0.000101          0.00000  \n",
       "5269      0.0  0.000303          0.00000  \n",
       "5270      0.0  0.000151          0.00000  \n",
       "\n",
       "[5271 rows x 7 columns]"
      ]
     },
     "execution_count": 14,
     "metadata": {},
     "output_type": "execute_result"
    }
   ],
   "source": [
    "od_df"
   ]
  },
  {
   "cell_type": "code",
   "execution_count": null,
   "metadata": {},
   "outputs": [],
   "source": []
  },
  {
   "cell_type": "code",
   "execution_count": 4,
   "metadata": {},
   "outputs": [],
   "source": [
    "def makeMedicationsDF(path, seeds):\n",
    "    '''\n",
    "    Go to the path and grab all encounters.csv and put them in one file with an extra column for seed\n",
    "    '''\n",
    "    df = pd.DataFrame()\n",
    "    for seed in seeds:\n",
    "        try:\n",
    "            medications = pd.read_csv(os.path.join(path, 'bangor_s' + str(seed), 'medications.csv'), dtype=str)\n",
    "            medications['seed'] = seed\n",
    "            df = df.append(medications)\n",
    "        except:\n",
    "            print('File for seed', str(seed), 'does not exist...skipping')\n",
    "    return df"
   ]
  },
  {
   "cell_type": "code",
   "execution_count": 5,
   "metadata": {},
   "outputs": [],
   "source": [
    "path = r'\\\\lmi.org\\Data\\Ser_Del\\HlthMgmt\\Civ\\RstricOpen\\SyntheaChallenge\\data'\n",
    "seeds = [10000, 13370, 23123, 33555, 39093, 45000, 51327, 65888, 74982, 82388]\n",
    "\n",
    "#pull in data\n",
    "df = makeMedicationsDF(path, seeds)\n",
    "\n"
   ]
  },
  {
   "cell_type": "code",
   "execution_count": 6,
   "metadata": {},
   "outputs": [
    {
     "data": {
      "text/plain": "                     START                  STOP  \\\n0     2013-01-31T17:08:25Z  2013-01-31T17:23:25Z   \n1     2013-01-31T17:08:25Z  2013-01-31T17:23:25Z   \n2     2013-01-31T17:08:25Z  2013-01-31T17:23:25Z   \n3     2016-07-25T12:47:23Z                   NaN   \n4     2016-07-25T12:47:23Z                   NaN   \n...                    ...                   ...   \n6741  1999-08-03T22:48:51Z                   NaN   \n6742  1999-08-03T22:48:51Z                   NaN   \n6743  2004-03-24T18:13:30Z                   NaN   \n6744  2004-03-24T18:13:30Z                   NaN   \n6745  2004-03-24T18:13:30Z                   NaN   \n\n                                   PATIENT  \\\n0     cc98085d-fb73-1c5a-b82a-6fd874d16956   \n1     cc98085d-fb73-1c5a-b82a-6fd874d16956   \n2     cc98085d-fb73-1c5a-b82a-6fd874d16956   \n3     5e090cdb-677c-1b38-bb24-2a360f6a489a   \n4     5e090cdb-677c-1b38-bb24-2a360f6a489a   \n...                                    ...   \n6741  2de3335a-1c17-56fc-ea59-655de45a2508   \n6742  2de3335a-1c17-56fc-ea59-655de45a2508   \n6743  15bde7a3-17ea-a127-1c7c-00fc87c27d0b   \n6744  15bde7a3-17ea-a127-1c7c-00fc87c27d0b   \n6745  15bde7a3-17ea-a127-1c7c-00fc87c27d0b   \n\n                                     PAYER  \\\n0     d47b3510-2895-3b70-9897-342d681c769d   \n1     d47b3510-2895-3b70-9897-342d681c769d   \n2     d47b3510-2895-3b70-9897-342d681c769d   \n3     42c4fca7-f8a9-3cd1-982a-dd9751bf3e2a   \n4     42c4fca7-f8a9-3cd1-982a-dd9751bf3e2a   \n...                                    ...   \n6741  7caa7254-5050-3b5e-9eae-bd5ea30e809c   \n6742  7caa7254-5050-3b5e-9eae-bd5ea30e809c   \n6743  b1c428d6-4f07-31e0-90f0-68ffa6ff8c76   \n6744  b1c428d6-4f07-31e0-90f0-68ffa6ff8c76   \n6745  b1c428d6-4f07-31e0-90f0-68ffa6ff8c76   \n\n                                 ENCOUNTER     CODE  \\\n0     70731a88-ec28-e3ff-4a3c-51ceef1ea6e6  1660014   \n1     70731a88-ec28-e3ff-4a3c-51ceef1ea6e6   834357   \n2     70731a88-ec28-e3ff-4a3c-51ceef1ea6e6  1190795   \n3     d895e693-8d64-659a-f1c1-673c559e76a0   309362   \n4     d895e693-8d64-659a-f1c1-673c559e76a0   312961   \n...                                    ...      ...   \n6741  13825764-e4b8-2c78-63c6-520e09cfe9b1   897718   \n6742  13825764-e4b8-2c78-63c6-520e09cfe9b1   197604   \n6743  8ebc9b95-cb1d-b408-882e-a5d28adb43f7   855332   \n6744  8ebc9b95-cb1d-b408-882e-a5d28adb43f7   897718   \n6745  8ebc9b95-cb1d-b408-882e-a5d28adb43f7   197604   \n\n                                            DESCRIPTION BASE_COST  \\\n0                    1 ML Epinephrine 1 MG/ML Injection      2.53   \n1     3 ML Amiodarone hydrocholoride 50 MG/ML Prefil...     27.01   \n2          Atropine Sulfate 1 MG/ML Injectable Solution     11.17   \n3                         Clopidogrel 75 MG Oral Tablet      9.00   \n4                         Simvastatin 20 MG Oral Tablet      8.70   \n...                                                 ...       ...   \n6741                      Verapamil Hydrochloride 40 MG     41.29   \n6742                       Digoxin 0.125 MG Oral Tablet     38.50   \n6743                   Warfarin Sodium 5 MG Oral Tablet     41.12   \n6744                      Verapamil Hydrochloride 40 MG     52.71   \n6745                       Digoxin 0.125 MG Oral Tablet     40.27   \n\n     PAYER_COVERAGE DISPENSES TOTALCOST REASONCODE REASONDESCRIPTION   seed  \n0              0.00         1      2.53        NaN               NaN  10000  \n1              0.00         1     27.01        NaN               NaN  10000  \n2              0.00         1     11.17        NaN               NaN  10000  \n3              0.00        58    522.00        NaN               NaN  10000  \n4              0.00        58    504.60        NaN               NaN  10000  \n...             ...       ...       ...        ...               ...    ...  \n6741           0.00       264  10900.56        NaN               NaN  82388  \n6742           0.00       264  10164.00        NaN               NaN  82388  \n6743           0.00       208   8552.96        NaN               NaN  82388  \n6744           0.00       208  10963.68        NaN               NaN  82388  \n6745           0.00       208   8376.16        NaN               NaN  82388  \n\n[67789 rows x 14 columns]",
      "text/html": "<div>\n<style scoped>\n    .dataframe tbody tr th:only-of-type {\n        vertical-align: middle;\n    }\n\n    .dataframe tbody tr th {\n        vertical-align: top;\n    }\n\n    .dataframe thead th {\n        text-align: right;\n    }\n</style>\n<table border=\"1\" class=\"dataframe\">\n  <thead>\n    <tr style=\"text-align: right;\">\n      <th></th>\n      <th>START</th>\n      <th>STOP</th>\n      <th>PATIENT</th>\n      <th>PAYER</th>\n      <th>ENCOUNTER</th>\n      <th>CODE</th>\n      <th>DESCRIPTION</th>\n      <th>BASE_COST</th>\n      <th>PAYER_COVERAGE</th>\n      <th>DISPENSES</th>\n      <th>TOTALCOST</th>\n      <th>REASONCODE</th>\n      <th>REASONDESCRIPTION</th>\n      <th>seed</th>\n    </tr>\n  </thead>\n  <tbody>\n    <tr>\n      <th>0</th>\n      <td>2013-01-31T17:08:25Z</td>\n      <td>2013-01-31T17:23:25Z</td>\n      <td>cc98085d-fb73-1c5a-b82a-6fd874d16956</td>\n      <td>d47b3510-2895-3b70-9897-342d681c769d</td>\n      <td>70731a88-ec28-e3ff-4a3c-51ceef1ea6e6</td>\n      <td>1660014</td>\n      <td>1 ML Epinephrine 1 MG/ML Injection</td>\n      <td>2.53</td>\n      <td>0.00</td>\n      <td>1</td>\n      <td>2.53</td>\n      <td>NaN</td>\n      <td>NaN</td>\n      <td>10000</td>\n    </tr>\n    <tr>\n      <th>1</th>\n      <td>2013-01-31T17:08:25Z</td>\n      <td>2013-01-31T17:23:25Z</td>\n      <td>cc98085d-fb73-1c5a-b82a-6fd874d16956</td>\n      <td>d47b3510-2895-3b70-9897-342d681c769d</td>\n      <td>70731a88-ec28-e3ff-4a3c-51ceef1ea6e6</td>\n      <td>834357</td>\n      <td>3 ML Amiodarone hydrocholoride 50 MG/ML Prefil...</td>\n      <td>27.01</td>\n      <td>0.00</td>\n      <td>1</td>\n      <td>27.01</td>\n      <td>NaN</td>\n      <td>NaN</td>\n      <td>10000</td>\n    </tr>\n    <tr>\n      <th>2</th>\n      <td>2013-01-31T17:08:25Z</td>\n      <td>2013-01-31T17:23:25Z</td>\n      <td>cc98085d-fb73-1c5a-b82a-6fd874d16956</td>\n      <td>d47b3510-2895-3b70-9897-342d681c769d</td>\n      <td>70731a88-ec28-e3ff-4a3c-51ceef1ea6e6</td>\n      <td>1190795</td>\n      <td>Atropine Sulfate 1 MG/ML Injectable Solution</td>\n      <td>11.17</td>\n      <td>0.00</td>\n      <td>1</td>\n      <td>11.17</td>\n      <td>NaN</td>\n      <td>NaN</td>\n      <td>10000</td>\n    </tr>\n    <tr>\n      <th>3</th>\n      <td>2016-07-25T12:47:23Z</td>\n      <td>NaN</td>\n      <td>5e090cdb-677c-1b38-bb24-2a360f6a489a</td>\n      <td>42c4fca7-f8a9-3cd1-982a-dd9751bf3e2a</td>\n      <td>d895e693-8d64-659a-f1c1-673c559e76a0</td>\n      <td>309362</td>\n      <td>Clopidogrel 75 MG Oral Tablet</td>\n      <td>9.00</td>\n      <td>0.00</td>\n      <td>58</td>\n      <td>522.00</td>\n      <td>NaN</td>\n      <td>NaN</td>\n      <td>10000</td>\n    </tr>\n    <tr>\n      <th>4</th>\n      <td>2016-07-25T12:47:23Z</td>\n      <td>NaN</td>\n      <td>5e090cdb-677c-1b38-bb24-2a360f6a489a</td>\n      <td>42c4fca7-f8a9-3cd1-982a-dd9751bf3e2a</td>\n      <td>d895e693-8d64-659a-f1c1-673c559e76a0</td>\n      <td>312961</td>\n      <td>Simvastatin 20 MG Oral Tablet</td>\n      <td>8.70</td>\n      <td>0.00</td>\n      <td>58</td>\n      <td>504.60</td>\n      <td>NaN</td>\n      <td>NaN</td>\n      <td>10000</td>\n    </tr>\n    <tr>\n      <th>...</th>\n      <td>...</td>\n      <td>...</td>\n      <td>...</td>\n      <td>...</td>\n      <td>...</td>\n      <td>...</td>\n      <td>...</td>\n      <td>...</td>\n      <td>...</td>\n      <td>...</td>\n      <td>...</td>\n      <td>...</td>\n      <td>...</td>\n      <td>...</td>\n    </tr>\n    <tr>\n      <th>6741</th>\n      <td>1999-08-03T22:48:51Z</td>\n      <td>NaN</td>\n      <td>2de3335a-1c17-56fc-ea59-655de45a2508</td>\n      <td>7caa7254-5050-3b5e-9eae-bd5ea30e809c</td>\n      <td>13825764-e4b8-2c78-63c6-520e09cfe9b1</td>\n      <td>897718</td>\n      <td>Verapamil Hydrochloride 40 MG</td>\n      <td>41.29</td>\n      <td>0.00</td>\n      <td>264</td>\n      <td>10900.56</td>\n      <td>NaN</td>\n      <td>NaN</td>\n      <td>82388</td>\n    </tr>\n    <tr>\n      <th>6742</th>\n      <td>1999-08-03T22:48:51Z</td>\n      <td>NaN</td>\n      <td>2de3335a-1c17-56fc-ea59-655de45a2508</td>\n      <td>7caa7254-5050-3b5e-9eae-bd5ea30e809c</td>\n      <td>13825764-e4b8-2c78-63c6-520e09cfe9b1</td>\n      <td>197604</td>\n      <td>Digoxin 0.125 MG Oral Tablet</td>\n      <td>38.50</td>\n      <td>0.00</td>\n      <td>264</td>\n      <td>10164.00</td>\n      <td>NaN</td>\n      <td>NaN</td>\n      <td>82388</td>\n    </tr>\n    <tr>\n      <th>6743</th>\n      <td>2004-03-24T18:13:30Z</td>\n      <td>NaN</td>\n      <td>15bde7a3-17ea-a127-1c7c-00fc87c27d0b</td>\n      <td>b1c428d6-4f07-31e0-90f0-68ffa6ff8c76</td>\n      <td>8ebc9b95-cb1d-b408-882e-a5d28adb43f7</td>\n      <td>855332</td>\n      <td>Warfarin Sodium 5 MG Oral Tablet</td>\n      <td>41.12</td>\n      <td>0.00</td>\n      <td>208</td>\n      <td>8552.96</td>\n      <td>NaN</td>\n      <td>NaN</td>\n      <td>82388</td>\n    </tr>\n    <tr>\n      <th>6744</th>\n      <td>2004-03-24T18:13:30Z</td>\n      <td>NaN</td>\n      <td>15bde7a3-17ea-a127-1c7c-00fc87c27d0b</td>\n      <td>b1c428d6-4f07-31e0-90f0-68ffa6ff8c76</td>\n      <td>8ebc9b95-cb1d-b408-882e-a5d28adb43f7</td>\n      <td>897718</td>\n      <td>Verapamil Hydrochloride 40 MG</td>\n      <td>52.71</td>\n      <td>0.00</td>\n      <td>208</td>\n      <td>10963.68</td>\n      <td>NaN</td>\n      <td>NaN</td>\n      <td>82388</td>\n    </tr>\n    <tr>\n      <th>6745</th>\n      <td>2004-03-24T18:13:30Z</td>\n      <td>NaN</td>\n      <td>15bde7a3-17ea-a127-1c7c-00fc87c27d0b</td>\n      <td>b1c428d6-4f07-31e0-90f0-68ffa6ff8c76</td>\n      <td>8ebc9b95-cb1d-b408-882e-a5d28adb43f7</td>\n      <td>197604</td>\n      <td>Digoxin 0.125 MG Oral Tablet</td>\n      <td>40.27</td>\n      <td>0.00</td>\n      <td>208</td>\n      <td>8376.16</td>\n      <td>NaN</td>\n      <td>NaN</td>\n      <td>82388</td>\n    </tr>\n  </tbody>\n</table>\n<p>67789 rows × 14 columns</p>\n</div>"
     },
     "execution_count": 6,
     "metadata": {},
     "output_type": "execute_result"
    }
   ],
   "source": [
    "df"
   ]
  },
  {
   "cell_type": "code",
   "execution_count": 7,
   "outputs": [
    {
     "name": "stdout",
     "output_type": "stream",
     "text": [
      "<class 'pandas.core.frame.DataFrame'>\n",
      "Int64Index: 67789 entries, 0 to 6745\n",
      "Data columns (total 14 columns):\n",
      " #   Column             Non-Null Count  Dtype \n",
      "---  ------             --------------  ----- \n",
      " 0   START              67789 non-null  object\n",
      " 1   STOP               43827 non-null  object\n",
      " 2   PATIENT            67789 non-null  object\n",
      " 3   PAYER              67789 non-null  object\n",
      " 4   ENCOUNTER          67789 non-null  object\n",
      " 5   CODE               67789 non-null  object\n",
      " 6   DESCRIPTION        67789 non-null  object\n",
      " 7   BASE_COST          67789 non-null  object\n",
      " 8   PAYER_COVERAGE     67789 non-null  object\n",
      " 9   DISPENSES          67789 non-null  object\n",
      " 10  TOTALCOST          67789 non-null  object\n",
      " 11  REASONCODE         0 non-null      object\n",
      " 12  REASONDESCRIPTION  0 non-null      object\n",
      " 13  seed               67789 non-null  int64 \n",
      "dtypes: int64(1), object(13)\n",
      "memory usage: 7.8+ MB\n"
     ]
    }
   ],
   "source": [
    "df.info()\n"
   ],
   "metadata": {
    "collapsed": false,
    "pycharm": {
     "name": "#%%\n"
    }
   }
  },
  {
   "cell_type": "code",
   "execution_count": 10,
   "outputs": [],
   "source": [
    "df['YEAR'] = df['START'].str.slice(stop=4)"
   ],
   "metadata": {
    "collapsed": false,
    "pycharm": {
     "name": "#%%\n"
    }
   }
  },
  {
   "cell_type": "code",
   "execution_count": 16,
   "outputs": [],
   "source": [
    "df_grouped = df.groupby(['PATIENT', 'YEAR', 'CODE', 'DESCRIPTION'])['ENCOUNTER'].count() \\\n",
    "    .reset_index(name='Number of Prescriptions')"
   ],
   "metadata": {
    "collapsed": false,
    "pycharm": {
     "name": "#%%\n"
    }
   }
  },
  {
   "cell_type": "code",
   "execution_count": 18,
   "outputs": [
    {
     "data": {
      "text/plain": "                                PATIENT  YEAR    CODE  \\\n0  000341fd-e879-21b3-aa5b-13cda0050ba9  1976  705129   \n1  000341fd-e879-21b3-aa5b-13cda0050ba9  1991  312961   \n2  000341fd-e879-21b3-aa5b-13cda0050ba9  1994  197361   \n3  000341fd-e879-21b3-aa5b-13cda0050ba9  1997  309362   \n4  000341fd-e879-21b3-aa5b-13cda0050ba9  2002  259255   \n\n                                 DESCRIPTION  Number of Prescriptions  \n0  Nitroglycerin 0.4 MG/ACTUAT Mucosal Spray                        1  \n1              Simvastatin 20 MG Oral Tablet                        1  \n2                Amlodipine 5 MG Oral Tablet                        1  \n3              Clopidogrel 75 MG Oral Tablet                        1  \n4             Atorvastatin 80 MG Oral Tablet                        1  ",
      "text/html": "<div>\n<style scoped>\n    .dataframe tbody tr th:only-of-type {\n        vertical-align: middle;\n    }\n\n    .dataframe tbody tr th {\n        vertical-align: top;\n    }\n\n    .dataframe thead th {\n        text-align: right;\n    }\n</style>\n<table border=\"1\" class=\"dataframe\">\n  <thead>\n    <tr style=\"text-align: right;\">\n      <th></th>\n      <th>PATIENT</th>\n      <th>YEAR</th>\n      <th>CODE</th>\n      <th>DESCRIPTION</th>\n      <th>Number of Prescriptions</th>\n    </tr>\n  </thead>\n  <tbody>\n    <tr>\n      <th>0</th>\n      <td>000341fd-e879-21b3-aa5b-13cda0050ba9</td>\n      <td>1976</td>\n      <td>705129</td>\n      <td>Nitroglycerin 0.4 MG/ACTUAT Mucosal Spray</td>\n      <td>1</td>\n    </tr>\n    <tr>\n      <th>1</th>\n      <td>000341fd-e879-21b3-aa5b-13cda0050ba9</td>\n      <td>1991</td>\n      <td>312961</td>\n      <td>Simvastatin 20 MG Oral Tablet</td>\n      <td>1</td>\n    </tr>\n    <tr>\n      <th>2</th>\n      <td>000341fd-e879-21b3-aa5b-13cda0050ba9</td>\n      <td>1994</td>\n      <td>197361</td>\n      <td>Amlodipine 5 MG Oral Tablet</td>\n      <td>1</td>\n    </tr>\n    <tr>\n      <th>3</th>\n      <td>000341fd-e879-21b3-aa5b-13cda0050ba9</td>\n      <td>1997</td>\n      <td>309362</td>\n      <td>Clopidogrel 75 MG Oral Tablet</td>\n      <td>1</td>\n    </tr>\n    <tr>\n      <th>4</th>\n      <td>000341fd-e879-21b3-aa5b-13cda0050ba9</td>\n      <td>2002</td>\n      <td>259255</td>\n      <td>Atorvastatin 80 MG Oral Tablet</td>\n      <td>1</td>\n    </tr>\n  </tbody>\n</table>\n</div>"
     },
     "execution_count": 18,
     "metadata": {},
     "output_type": "execute_result"
    }
   ],
   "source": [
    "df_grouped.head()"
   ],
   "metadata": {
    "collapsed": false,
    "pycharm": {
     "name": "#%%\n"
    }
   }
  },
  {
   "cell_type": "code",
   "execution_count": 19,
   "outputs": [],
   "source": [
    "df_grouped.to_csv(\"prescription_info.csv\", index=False)"
   ],
   "metadata": {
    "collapsed": false,
    "pycharm": {
     "name": "#%%\n"
    }
   }
  },
  {
   "cell_type": "code",
   "execution_count": null,
   "outputs": [],
   "source": [],
   "metadata": {
    "collapsed": false,
    "pycharm": {
     "name": "#%%\n"
    }
   }
  }
 ],
 "metadata": {
  "kernelspec": {
   "display_name": "Python 3",
   "language": "python",
   "name": "python3"
  },
  "language_info": {
   "codemirror_mode": {
    "name": "ipython",
    "version": 3
   },
   "file_extension": ".py",
   "mimetype": "text/x-python",
   "name": "python",
   "nbconvert_exporter": "python",
   "pygments_lexer": "ipython3",
   "version": "3.8.5"
  }
 },
 "nbformat": 4,
 "nbformat_minor": 2
}